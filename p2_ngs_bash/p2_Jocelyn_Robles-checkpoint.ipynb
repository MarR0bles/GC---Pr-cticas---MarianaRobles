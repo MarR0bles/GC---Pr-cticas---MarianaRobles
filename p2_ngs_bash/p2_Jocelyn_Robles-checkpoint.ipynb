{
 "cells": [
  {
   "cell_type": "markdown",
   "id": "6ede3a42",
   "metadata": {},
   "source": [
    "# Práctica 2: Bash y NGS\n",
    "\n",
    "## Mariana Jocelyn Robles Lara\n"
   ]
  },
  {
   "cell_type": "markdown",
   "id": "057f8f11",
   "metadata": {},
   "source": [
    "## Parte I. Manejo de directorios\n",
    "\n",
    "* **Creación de directorios**: Inicia la terminal y colócate en el directorio de tus documentos. Crea un directorio llamado: `p2_nombre_apellido`. Ingresa a la carpeta `p2_nombre_apellido` e imprime la ruta absoluta de ésta. \n",
    "\n",
    "Nota: No olivedes que debes ser reportados todos los **outputs**."
   ]
  },
  {
   "cell_type": "code",
   "execution_count": 3,
   "id": "9f0aa951",
   "metadata": {},
   "outputs": [
    {
     "name": "stdout",
     "output_type": "stream",
     "text": [
      "mkdir: falta un operando\n",
      "Pruebe 'mkdir --help' para más información.\n",
      "\u001b[?2004h"
     ]
    },
    {
     "ename": "",
     "evalue": "1",
     "output_type": "error",
     "traceback": []
    }
   ],
   "source": [
    "# Comando para crear directorio\n",
    "mkdir"
   ]
  },
  {
   "cell_type": "code",
   "execution_count": 7,
   "id": "f9f84a03",
   "metadata": {},
   "outputs": [
    {
     "name": "stdout",
     "output_type": "stream",
     "text": [
      "\u001b[?2004h\u001b[?2004l"
     ]
    },
    {
     "ename": "",
     "evalue": "1",
     "output_type": "error",
     "traceback": []
    }
   ],
   "source": [
    "# Comando para ingresar a directorio\n",
    "cd Descargas/p2_Jocelyn_Robles"
   ]
  },
  {
   "cell_type": "code",
   "execution_count": 8,
   "id": "d1824171",
   "metadata": {},
   "outputs": [
    {
     "name": "stdout",
     "output_type": "stream",
     "text": [
      "/home/dulma/Descargas/p2_Jocelyn_Robles\n",
      "\u001b[?2004h"
     ]
    },
    {
     "ename": "",
     "evalue": "1",
     "output_type": "error",
     "traceback": []
    }
   ],
   "source": [
    "# Comando para imprimir ruta\n",
    "pwd"
   ]
  },
  {
   "cell_type": "markdown",
   "id": "b8e3a388",
   "metadata": {},
   "source": [
    "* Indica que tipo de shell tiene tu computadora. Visita [el siguiente sitio](https://askubuntu.com/questions/590899/how-do-i-check-which-shell-i-am-using) para conocer el comando. \n"
   ]
  },
  {
   "cell_type": "code",
   "execution_count": 5,
   "id": "415bdfea",
   "metadata": {},
   "outputs": [
    {
     "name": "stdout",
     "output_type": "stream",
     "text": [
      "/usr/bin/bash04l\n",
      "\u001b[?2004h"
     ]
    },
    {
     "ename": "",
     "evalue": "1",
     "output_type": "error",
     "traceback": []
    }
   ],
   "source": [
    "# Comando para conocer shell\n",
    "echo $0"
   ]
  },
  {
   "cell_type": "markdown",
   "id": "75801fc3",
   "metadata": {},
   "source": [
    "* Un proyecto bioinformático que se quiere publicar, debe estar bien documentado y organizado. Dentro de tu carpeta de trabajo crea en una sola línea las siguientes directorios `data`, `raw_data`, `filtered`, `meta`, `scripts`, `figures`, `archive`. Después mueve `raw_data` y `filtered` dentro de `data`. "
   ]
  },
  {
   "cell_type": "code",
   "execution_count": 11,
   "id": "557e8e3c",
   "metadata": {},
   "outputs": [
    {
     "name": "stdout",
     "output_type": "stream",
     "text": [
      "\u001b[?2004h\u001b[?2004l"
     ]
    },
    {
     "ename": "",
     "evalue": "1",
     "output_type": "error",
     "traceback": []
    }
   ],
   "source": [
    "# Comando para crear directorios\n",
    "mkdir data raw_data filtered meta scripts figures archive"
   ]
  },
  {
   "cell_type": "code",
   "execution_count": 12,
   "id": "13e5313b",
   "metadata": {},
   "outputs": [
    {
     "name": "stdout",
     "output_type": "stream",
     "text": [
      "\u001b[0m\u001b[01;34marchive\u001b[0m  \u001b[01;34mfigures\u001b[0m   \u001b[01;34mmeta\u001b[0m                     \u001b[01;34mraw_data\u001b[0m\n",
      "\u001b[01;34mdata\u001b[0m     \u001b[01;34mfiltered\u001b[0m  p2_Jocelyn_Robles.ipynb  \u001b[01;34mscripts\u001b[0m\n",
      "\u001b[?2004h"
     ]
    },
    {
     "ename": "",
     "evalue": "1",
     "output_type": "error",
     "traceback": []
    }
   ],
   "source": [
    "ls"
   ]
  },
  {
   "cell_type": "code",
   "execution_count": 13,
   "id": "bc8190fd",
   "metadata": {},
   "outputs": [
    {
     "name": "stdout",
     "output_type": "stream",
     "text": [
      "\u001b[?2004h\u001b[?2004l"
     ]
    },
    {
     "ename": "",
     "evalue": "1",
     "output_type": "error",
     "traceback": []
    }
   ],
   "source": [
    "# Comando para mover raw_data y filtered\n",
    "mv -t data raw_data filtered"
   ]
  },
  {
   "cell_type": "code",
   "execution_count": 14,
   "id": "4b8e68d1",
   "metadata": {},
   "outputs": [
    {
     "name": "stdout",
     "output_type": "stream",
     "text": [
      "\u001b[0m\u001b[01;34marchive\u001b[0m  \u001b[01;34mdata\u001b[0m  \u001b[01;34mfigures\u001b[0m  \u001b[01;34mmeta\u001b[0m  p2_Jocelyn_Robles.ipynb  \u001b[01;34mscripts\u001b[0m\n",
      "\u001b[?2004h"
     ]
    },
    {
     "ename": "",
     "evalue": "1",
     "output_type": "error",
     "traceback": []
    }
   ],
   "source": [
    "ls"
   ]
  },
  {
   "cell_type": "markdown",
   "id": "8b0088f1",
   "metadata": {},
   "source": [
    "* Visita [el siguiente repositorio](https://github.com/u-genoma/BioinfinvRepro/blob/master/Unidad2/Unidad2_Organizacion_proyecto_bioinf.md) de `GitHub` y contesta ¿A qué se debe el nombre y la organización de los directorios que acabamos de crear? "
   ]
  },
  {
   "cell_type": "markdown",
   "id": "e7b2f494",
   "metadata": {},
   "source": [
    "Data: su nombre es debido a que almacena todos los datos; a su vez puede dividirse en subdirectorios para cada dato en específico\n",
    "\n",
    "Raw data: En este directorio se incluyen los archivos de datos crudos.\n",
    "\n",
    "filtered: subdirectorio, se usa para filtrar la subcarpeta desde el resto de los archivos en el repositorio\n",
    "\n",
    "meta: se guardan todos los metadatos, como un archivo cvs detallando información de cada una de las muestras u de nuestro proyecto\n",
    "\n",
    "scripts: donde se guarda todos los scripts necesarios para correr el análisis de principio a fin. Es un directorio obligatorio y es la carpeta más difícil de documentar.\n",
    "\n",
    "figures: se escriben códigos para generar figuras (imágenes) de nuestro proyecto, es exclusivo de esta función\n",
    "\n",
    "archive: este directorio no se sube al repositorio, pero se usa para tener almacenados scripts, datos y resultados que no utilizas, pero tampoco se quieren borrar por completo."
   ]
  },
  {
   "cell_type": "markdown",
   "id": "9553264b",
   "metadata": {},
   "source": [
    "## Parte II.  Manejo de archivos\n",
    "\n",
    "En ésta parte trabajarás con secuencias genómicas de un organismo de tu interés (te sugiero que sea una bacteria, arquea o virus (excepto SARS-COV2) por el tamaño de los archivos). De ese organismo deberás conseguir: \n",
    "\n",
    "1. El archivo crudo (`fastq`). Para conseguir este archivo puedes consultar el base de datos de [SRA](https://www.ncbi.nlm.nih.gov/sra) o el [ENA](https://www.ebi.ac.uk/ena/browser/home). \n",
    "2. La secuencia de DNA (`fasta`).\n",
    "3. El archivo con genes anotados (`gff`).\n",
    "4. Un archivo con la descripción del proyecto, puede ser un Genbank o similar. \n",
    "\n",
    "* Guarda cada archivo con la siguiente estructura: `nombre_bicho.formato` (en `nombre_bicho` tienes que poner el nombre científico del organismo que elegiste).\n",
    "* Descarga éstos cuatro archivos en tu carpeta `p2_nombre_apellido`.\n",
    "\n"
   ]
  },
  {
   "cell_type": "markdown",
   "id": "67531c5e",
   "metadata": {},
   "source": [
    "* Cuéntame sobre el organismo que elegiste, elabora un resumen de 120 palabras de ese bicho."
   ]
  },
  {
   "cell_type": "markdown",
   "id": "6a7f5c1a",
   "metadata": {},
   "source": [
    "Saccharomyces cerevisiae es un hongo unicelular, una levadura utilizada en la fabricación de pan, cerveza y vino. Su genoma fue el primero entre los eucariotas en ser secuenciado. En su ciclo de vida alternan dos formas, una haploide y otra diploide. Ambas formas se reproducen de forma asexual por gemación. En condiciones muy determinadas la forma diploide es capaz de reproducirse sexualmente. En estos casos se produce la meiosis en la célula formándose un asca que contiene cuatro ascosporas haploides.\n",
    "S. cerevisiae es un sistema genético que presenta dos fases biológicas estables: haploide y diploide. La fase haploide permite generar, aislar y caracterizar mutantes con mucha facilidad, mientras que en la diploide se pueden realizar estudios de complementación."
   ]
  },
  {
   "cell_type": "markdown",
   "id": "eeebdf96",
   "metadata": {},
   "source": [
    "* ¿Existe una publicación sobre la secuenciación y ensamblado de su genoma? Colóca la fuente en formato APA. "
   ]
  },
  {
   "cell_type": "markdown",
   "id": "05f9b166",
   "metadata": {},
   "source": [
    "Sobre su secuenciación mitocondrial en:\n",
    "Foury F, Roganti T, Lecrenier N, Purnelle B. The complete sequence of the mitochondrial genome of Saccharomyces cerevisiae. FEBS Lett. 1998 Dec 4;440(3):325-31. doi: 10.1016/s0014-5793(98)01467-7. PMID: 9872396."
   ]
  },
  {
   "cell_type": "markdown",
   "id": "2f7a0b9d",
   "metadata": {},
   "source": [
    "* ¿Qué plataforma de secuenciación se utilizó? Explica brevemente las características de esa plataforma de secuenciación. "
   ]
  },
  {
   "cell_type": "markdown",
   "id": "7ea28e56",
   "metadata": {},
   "source": [
    "Secuenciación de Sanger.\n",
    "\n",
    "Esta estrategia se basa en sintetizar, de forma secuencial, una hebra de ADN complementaria a una hebra de cadena simple (que se utiliza como molde), en presencia de ADN polimerasa, los cuatro 2’-deoxinucleótidos que componen la secuencia del ADN (dATP, dGTP, dCTP y dTTP) y cuatro dideoxinucleótidos (ddATP, ddGTP, ddCTP y ddTTP). Estos últimos nucleótidos “especiales” o nucleótidos de parada, están diseñados para que carezcan del grupo 3’-OH, que permite la adición del nucleótido consecutivo, de forma que cuando uno de ellos es incorporado por la polimerasa se interrumpe la síntesis de la nueva hebra. Esto lleva a que se obtengan fragmentos secuenciados de diferente tamaño, según dónde se incorporen los dideoxinucleótidos. De este modo, y tras una simple electroforesis, se va a poder dilucidar la secuencia."
   ]
  },
  {
   "cell_type": "markdown",
   "id": "9b61906d",
   "metadata": {},
   "source": [
    "* Mueve tus cuatro archivos a la carpeta de `raw_data` y has un `ls` con formato largo y legible para humanos. Después copia el archivo `gff` a tu carpeta `filtered.`"
   ]
  },
  {
   "cell_type": "code",
   "execution_count": 15,
   "id": "eb173058",
   "metadata": {},
   "outputs": [
    {
     "name": "stdout",
     "output_type": "stream",
     "text": [
      "\u001b[0m\u001b[01;34marchive\u001b[0m  \u001b[01;34mmeta\u001b[0m                     saccharomyces.fastq       \u001b[01;34mscripts\u001b[0m\n",
      "\u001b[01;34mdata\u001b[0m     p2_Jocelyn_Robles.ipynb  saccharomyces_genbank\n",
      "\u001b[01;34mfigures\u001b[0m  saccharomyces_dna.fasta  saccharomyces_genes.gff3\n",
      "\u001b[?2004h"
     ]
    },
    {
     "ename": "",
     "evalue": "1",
     "output_type": "error",
     "traceback": []
    }
   ],
   "source": [
    "ls"
   ]
  },
  {
   "cell_type": "code",
   "execution_count": 17,
   "id": "907d1674",
   "metadata": {},
   "outputs": [
    {
     "name": "stdout",
     "output_type": "stream",
     "text": [
      "\u001b[?2004h\u001b[?2004l"
     ]
    },
    {
     "ename": "",
     "evalue": "1",
     "output_type": "error",
     "traceback": []
    }
   ],
   "source": [
    "# Comando para mover archivos\n",
    "mv -t /home/dulma/Descargas/p2_Jocelyn_Robles/data/raw_data/ saccharomyces_dna.fasta saccharomyces.fastq saccharomyces_genbank saccharomyces_genes.gff3"
   ]
  },
  {
   "cell_type": "code",
   "execution_count": 18,
   "id": "da35a30b",
   "metadata": {},
   "outputs": [
    {
     "name": "stdout",
     "output_type": "stream",
     "text": [
      "total 40K[?2004l\n",
      "drwxr-xr-x 2 dulma dulma 4.0K may 14 17:03 \u001b[0m\u001b[01;34marchive\u001b[0m\n",
      "drwxr-xr-x 4 dulma dulma 4.0K may 14 17:04 \u001b[01;34mdata\u001b[0m\n",
      "drwxr-xr-x 2 dulma dulma 4.0K may 14 17:03 \u001b[01;34mfigures\u001b[0m\n",
      "drwxr-xr-x 2 dulma dulma 4.0K may 14 17:03 \u001b[01;34mmeta\u001b[0m\n",
      "-rw-r--r-- 1 dulma dulma  17K may 14 17:10 p2_Jocelyn_Robles.ipynb\n",
      "drwxr-xr-x 2 dulma dulma 4.0K may 14 17:03 \u001b[01;34mscripts\u001b[0m\n",
      "\u001b[?2004h"
     ]
    },
    {
     "ename": "",
     "evalue": "1",
     "output_type": "error",
     "traceback": []
    }
   ],
   "source": [
    "# Comando para listado largo y legible para humanos\n",
    "ls -lh"
   ]
  },
  {
   "cell_type": "code",
   "execution_count": 19,
   "id": "63aba823",
   "metadata": {},
   "outputs": [
    {
     "name": "stdout",
     "output_type": "stream",
     "text": [
      "\u001b[?2004h"
     ]
    },
    {
     "ename": "",
     "evalue": "1",
     "output_type": "error",
     "traceback": []
    }
   ],
   "source": [
    "cd data/raw_data"
   ]
  },
  {
   "cell_type": "code",
   "execution_count": 20,
   "id": "2101694b",
   "metadata": {},
   "outputs": [
    {
     "name": "stdout",
     "output_type": "stream",
     "text": [
      "saccharomyces_dna.fasta  saccharomyces_genbank\n",
      "saccharomyces.fastq      saccharomyces_genes.gff3\n",
      "\u001b[?2004h"
     ]
    },
    {
     "ename": "",
     "evalue": "1",
     "output_type": "error",
     "traceback": []
    }
   ],
   "source": [
    "ls"
   ]
  },
  {
   "cell_type": "code",
   "execution_count": 21,
   "id": "6e2af4d2",
   "metadata": {},
   "outputs": [
    {
     "name": "stdout",
     "output_type": "stream",
     "text": [
      "\u001b[?2004h\u001b[?2004l"
     ]
    },
    {
     "ename": "",
     "evalue": "1",
     "output_type": "error",
     "traceback": []
    }
   ],
   "source": [
    "# Comando para copiar archivo gff\n",
    "cp saccharomyces_genes.gff3 ../filtered"
   ]
  },
  {
   "cell_type": "markdown",
   "id": "67c0788a",
   "metadata": {},
   "source": [
    "* Explora tus tres archivos (`fastq`,`fasta`, y `gff`) , utiliza un comando para ver las primeras 12 líneas de cada archivo."
   ]
  },
  {
   "cell_type": "code",
   "execution_count": 22,
   "id": "a88154a2",
   "metadata": {},
   "outputs": [
    {
     "name": "stdout",
     "output_type": "stream",
     "text": [
      "@SRR10083550.1 0_0_1_12415_232/1\n",
      "ACCAGAAATCCTATATACTAAATGGTTAATTGTAACTGAACCCGCAGGTCACATGTGTTAGGTTTCAC\n",
      "+\n",
      "GGGGGD=FGGADGGGGGGGGGFDDFGECCFGGGFGFEFFGDEFGGFGEDGGBEEGGDDFBGGGGGGFE\n",
      "@SRR10083550.2 1_1_1_7227_342/1\n",
      "TAGATATGTTTCGGGAGTTTACAGTTGCGTAGTTGCGGATTAAGGGAGTAGGATGAATATAACCCGCA\n",
      "+\n",
      "GGFDEFGGGGGGGDD@?AFGGAC?)BCBCCB@?EDBFF:,??B?=EDCCDGGGDD?DGFFGGGGFFGG\n",
      "@SRR10083550.3 2_1_1_5884_292/1\n",
      "CGAATACTGCATCCCAGCATGTCCTTTCTACTGCGGTAGCTCTGTCTTTTATAAAAATACTTTAGTCA\n",
      "+\n",
      "GFD>BB=?45@:CBEEEDDDFFFGFEGGEGG?GGGGGGFGGGGGGGGGEEFGBA=?EAEFD?77BABE\n",
      "\u001b[?2004h"
     ]
    },
    {
     "ename": "",
     "evalue": "1",
     "output_type": "error",
     "traceback": []
    }
   ],
   "source": [
    "# Comando para ver fastq\n",
    "head -n 12 saccharomyces.fastq"
   ]
  },
  {
   "cell_type": "code",
   "execution_count": 23,
   "id": "1ac3eac0",
   "metadata": {},
   "outputs": [
    {
     "name": "stdout",
     "output_type": "stream",
     "text": [
      ">X59720.2 S.cerevisiae chromosome III complete DNA sequence\n",
      "CCCACACACCACACCCACACCACACCCACACACCACACACACCACACCCACACACCCACACCACACCACA\n",
      "CCCACACCACACCCACACACCCACACCCACACACCACACCCACACACACCACACCCACACACACCCACAC\n",
      "CCACACACCACACCCACACACACACCACACCCACACACACCACACCACACCCACACCACACCCACACCCA\n",
      "CACACCACACCCACACCCACACCCCACACCCACACACCACACCCACACACACCACACCCACACACACCCA\n",
      "CACCACACCCACACACCACACCCACACACCCACACCCACACACACCACACCCACACCACACCCACACCCA\n",
      "CACACCCACACCCTAACACTACCCTAACACTACCCTATTCTAACCCTGATTTTACCTGTCTCCCAACTTA\n",
      "CTCTCCATTACCCTACCTCTCCACTCGTTACCCTGTCTCATTCAACCGTACCACTCCCAACCACCATCCA\n",
      "TCTCTCTACTTACTACCACCAACCCACCGTCCACCATAACCGTTACCCTCCAACTACCCGTATCCAACTC\n",
      "CACTACCGCTTACCCTACCATCGACCATGTCCTACTCACTGTACTGTTGTTCACCCACCATATTGAAACG\n",
      "TCTACAAATGATCGTAAATAATACACATATACTTATCCTACCACTCTAATCCCACTACCACATGCCATAC\n",
      "TCACCTTCACTTGTATTCTGATCGGTCATACGCACACGGATGCTACAGTATATACCATCTCAAACTTACC\n",
      "\u001b[?2004h"
     ]
    },
    {
     "ename": "",
     "evalue": "1",
     "output_type": "error",
     "traceback": []
    }
   ],
   "source": [
    "# Comando para ver fasta\n",
    "head -n 12 saccharomyces_dna.fasta"
   ]
  },
  {
   "cell_type": "code",
   "execution_count": 24,
   "id": "b6a86313",
   "metadata": {},
   "outputs": [
    {
     "name": "stdout",
     "output_type": "stream",
     "text": [
      "##sequence-region X59720.2 1 316613\n",
      "##species https://www.ncbi.nlm.nih.gov/Taxonomy/Browser/wwwtax.cgi?id=4932\n",
      "X59720.2\tEMBL\tregion\t1\t316613\t.\t+\t.\tID=X59720.2:1..316613;Dbxref=taxon:4932;Name=III;chromosome=III;gbkey=Src;mol_type=genomic DNA;strain=S288C\n",
      "X59720.2\tEMBL\trepeat_region\t1\t363\t.\t-\t.\tID=id-X59720.2:1..363;Note=rpt_family (TG1-3)n;gbkey=repeat_region\n",
      "X59720.2\tEMBL\tsequence_feature\t364\t639\t.\t-\t.\tID=id-X59720.2:364..639;Note=subtelomeric STR-D%2CC%2CB%2CA elements;gbkey=misc_feature\n",
      "X59720.2\tEMBL\tsequence_feature\t640\t1098\t.\t-\t.\tID=id-X59720.2:640..1098;Note=subtelomeric core X element;gbkey=misc_feature\n",
      "X59720.2\tEMBL\tsequence_feature\t823\t850\t.\t-\t.\tID=id-X59720.2:823..850;Note=OBF-consensus;gbkey=misc_feature\n",
      "X59720.2\tEMBL\tsequence_feature\t1050\t1060\t.\t-\t.\tID=id-X59720.2:1050..1060;Note=ARS-consensus;gbkey=misc_feature\n",
      "X59720.2\tEMBL\tpseudogene\t1179\t2653\t.\t+\t.\tID=gene-Ty5;Name=Ty5;end_range=2653,.;gbkey=Gene;gene=Ty5;gene_biotype=pseudogene;partial=true;pseudo=true;start_range=.,1179\n",
      "X59720.2\tEMBL\tCDS\t1179\t2653\t.\t+\t0\tID=cds-Ty5;Parent=gene-Ty5;Note=similarity with the region of Ty5 gene from Saccharomyces paradoxus which codes for the 5' LTR and aminoacids 1-421 of the TY5 protein;end_range=2653,.;gbkey=CDS;gene=Ty5;partial=true;pseudo=true;start_range=.,1179\n",
      "X59720.2\tEMBL\tCDS\t1392\t2135\t.\t+\t0\tID=cds-Ty5-2;Parent=gene-Ty5;Note=ORF YCL076w;end_range=2135,.;gbkey=CDS;gene=Ty5;partial=true;pseudo=true;start_range=.,1392\n",
      "X59720.2\tEMBL\tgene\t1179\t1429\t.\t+\t.\tID=gene-pseudogene Ty5;Name=pseudogene Ty5;gbkey=Gene;gene=pseudogene Ty5;gene_biotype=other\n",
      "\u001b[?2004h"
     ]
    },
    {
     "ename": "",
     "evalue": "1",
     "output_type": "error",
     "traceback": []
    }
   ],
   "source": [
    "# Comando para ver gff\n",
    "head -n 12 saccharomyces_genes.gff3"
   ]
  },
  {
   "cell_type": "markdown",
   "id": "cc6a5a03",
   "metadata": {},
   "source": [
    "* Ya que los exploraste, identifica un caracter en los archivos `fastq` y `fasta` que te ayuden a contar el número de secuencias que contiene cada uno. Ahora, utilliza un comando para conocer el número de secuencias en cada archivo. "
   ]
  },
  {
   "cell_type": "code",
   "execution_count": 25,
   "id": "dac54c9f",
   "metadata": {},
   "outputs": [
    {
     "name": "stdout",
     "output_type": "stream",
     "text": [
      "1576204h\u001b[?2004l\n",
      "\u001b[?2004h"
     ]
    },
    {
     "ename": "",
     "evalue": "1",
     "output_type": "error",
     "traceback": []
    }
   ],
   "source": [
    "# Comando para contar secuencias en fastq\n",
    "grep '@' -c saccharomyces.fastq"
   ]
  },
  {
   "cell_type": "code",
   "execution_count": null,
   "id": "a7ff9020",
   "metadata": {},
   "outputs": [],
   "source": [
    "# Comando para contar secuencias en fasta\n",
    "grep '>' -c saccharomyces_dna.fasta"
   ]
  },
  {
   "cell_type": "markdown",
   "id": "0c3f2c77",
   "metadata": {},
   "source": [
    "* Explica la diferencia entre los formatos `faa`, `fna`, `fastq`, `fasta` y `gff`"
   ]
  },
  {
   "cell_type": "markdown",
   "id": "e028cb64",
   "metadata": {},
   "source": [
    "**faa**: El formato .faa es utilizada por el NCBI para \"FASTA Amino Acids\", por lo tanto, es igualmente un archivo FASTA pero destinado a secuencias de aminoacidos.\n",
    "\n",
    "**fna**: El sufijo del nombre de archivo FNA se usa principalmente para los archivos FASTA DNA And Protein Sequence Alignment. Archivos con esta extensión pueden ser utilizados por programas distribuidos para la plataforma Windows. FNA formato de archivo, junto con 6033 otros formatos de archivo, pertenece a la categoría Otros archivos. El software recomendado para administrar archivos FNA es FASTA. Se usa genéricamente para especificar ácidos nucleicos.\n",
    "\n",
    "**fastq**: FASTQ fue concebido para resolver un problema específico que surge durante la secuenciación: debido a cómo funcionan las diferentes tecnologías de secuenciación, la confianza en cada llamada de base (es decir, la probabilidad estimada de haber identificado correctamente un nucleótido dado) varía. Esto se expresa en la puntuación de calidad Phred. FASTA no tenía una forma estandarizada de codificar esto. Por el contrario, un registro FASTQ contiene una secuencia de puntuaciones de calidad para cada nucleótido.\n",
    "Un registro FASTQ tiene el siguiente formato:\n",
    "\n",
    "- Una línea que comienza con @, que contiene el ID de secuencia.\n",
    "- Una o más líneas que contienen la secuencia.\n",
    "- Una nueva línea que comienza con el carácter + , y estar vacío o repetir el ID de secuencia.\n",
    "- Una o más líneas que contienen las puntuaciones de calidad.\n",
    "\n",
    "**fasta**: Es un formato basado en texto para representar secuencias de nucleótidos o secuencias de aminoácidos (proteínas), en el que los nucleótidos o los aminoácidos se representan mediante códigos de una sola letra. El formato también permite que los nombres de las secuencias y los comentarios precedan a las secuencias). \n",
    "Algunas de sus características son: \n",
    "\n",
    "- La secuencia inicia con el símbolo > seguido del identificador de la secuencia y todos los comentarios que se quiera sobre esa misma línea. \n",
    "- La siguiente línea describe propiamente la secuencia, a la que se le pueden insertar tabuladores, cambios de línea y espacios, mismos que serán ignorados en cualquier análisis.\n",
    "- La secuencia es leída hasta que es encontrado el fin de archivo ó una nueva secuencia inicia con >. \n",
    "- Dentro de un solo archivo puede haber una o varias secuencias.\n",
    "\n",
    "**gff**: Es un formato de archivo utilizado para describir genes y otras características de secuencias de ADN , ARN y proteínas; muchos programas de bioinformática representan genes y transcripciones en formato GFF (General Feature Format) que simplemente describe las ubicaciones y los atributos de los genes y las características de la transcripción en el genoma (cromosoma o andamios/contigs)."
   ]
  },
  {
   "cell_type": "markdown",
   "id": "56fac45c",
   "metadata": {},
   "source": [
    "* Abre el archivo `gff` de las siguientes formas `less archivo.gff3` y `less -S archivo.gff3`. Observa las diferencias y explicalas. "
   ]
  },
  {
   "cell_type": "code",
   "execution_count": null,
   "id": "2465476d",
   "metadata": {},
   "outputs": [
    {
     "name": "stdout",
     "output_type": "stream",
     "text": [
      "##sequence-region X59720.2 1 316613\u001b[m\n",
      "##species https://www.ncbi.nlm.nih.gov/Taxonomy/Browser/wwwtax.cgi?id=4932\u001b[m\n",
      "X59720.2        EMBL    region  1       316613  .       +       .       ID=X5972\u001b[m0.2:1..316613;Dbxref=taxon:4932;Name=III;chromosome=III;gbkey=Src;mol_type=genom\u001b[mic DNA;strain=S288C\u001b[m\n",
      "X59720.2        EMBL    repeat_region   1       363     .       -       .       \u001b[mID=id-X59720.2:1..363;Note=rpt_family (TG1-3)n;gbkey=repeat_region\u001b[m\n",
      "X59720.2        EMBL    sequence_feature        364     639     .       -       \u001b[m.       ID=id-X59720.2:364..639;Note=subtelomeric STR-D%2CC%2CB%2CA elements;gbk\u001b[mey=misc_feature\u001b[m\n",
      "X59720.2        EMBL    sequence_feature        640     1098    .       -       \u001b[m.       ID=id-X59720.2:640..1098;Note=subtelomeric core X element;gbkey=misc_fea\u001b[mture\u001b[m\n",
      "X59720.2        EMBL    sequence_feature        823     850     .       -       \u001b[m.       ID=id-X59720.2:823..850;Note=OBF-consensus;gbkey=misc_feature\u001b[m\n",
      "X59720.2        EMBL    sequence_feature        1050    1060    .       -       \u001b[m.       ID=id-X59720.2:1050..1060;Note=ARS-consensus;gbkey=misc_feature\u001b[m\n",
      "X59720.2        EMBL    pseudogene      1179    2653    .       +       .       \u001b[mID=gene-Ty5;Name=Ty5;end_range=2653,.;gbkey=Gene;gene=Ty5;gene_biotype=pseudogen\u001b[me;partial=true;pseudo=true;start_range=.,1179\u001b[m\n"
     ]
    }
   ],
   "source": [
    "# less archivo.gff3\n",
    "less saccharomyces_genes.gff3"
   ]
  },
  {
   "cell_type": "code",
   "execution_count": null,
   "id": "4c36dc8a",
   "metadata": {},
   "outputs": [],
   "source": [
    "# less -S archivo.gff3\n",
    "less -S saccharomyces_genes.gff3"
   ]
  },
  {
   "cell_type": "markdown",
   "id": "59137dd5",
   "metadata": {},
   "source": [
    "* Entra a tu carpeta de `filtered` utilizando una ruta relativa. "
   ]
  },
  {
   "cell_type": "code",
   "execution_count": null,
   "id": "50f4de96",
   "metadata": {},
   "outputs": [],
   "source": [
    "# Comando\n",
    "cd ../filtered"
   ]
  },
  {
   "cell_type": "markdown",
   "id": "9598626b",
   "metadata": {},
   "source": [
    "* Cambia el nombre del archivo que tienes aquí por `cp_nombre_bicho.gff` (en `nombre_bicho` tienes que poner el nombre científico del organismo que elegiste)."
   ]
  },
  {
   "cell_type": "code",
   "execution_count": null,
   "id": "b65257bd",
   "metadata": {},
   "outputs": [],
   "source": [
    "# Comando para cambiar nombre de un archivo\n",
    "mv saccharomyces_genes.gff3 cp_saccharomyces_genes.gff3"
   ]
  },
  {
   "cell_type": "markdown",
   "id": "e8f9573e",
   "metadata": {},
   "source": [
    "* Filtra el tercer campo de tu archivo `gff` por la categoría `gene` y reporta la cantidad de genes que tiene el archivo. Contesta: \n",
    "\n",
    "1. ¿A qué corresponde el campo tres? \n",
    "2. ¿Cuál es la diferencia entre gene y CDS?"
   ]
  },
  {
   "cell_type": "code",
   "execution_count": null,
   "id": "b10ba5ee",
   "metadata": {},
   "outputs": [],
   "source": [
    "# Comando para concer cuántos genes hay\n",
    "grep 'gene' -c  cp_saccharomyces_genes.gff3\n",
    "#264"
   ]
  },
  {
   "cell_type": "code",
   "execution_count": null,
   "id": "af417b58",
   "metadata": {},
   "outputs": [],
   "source": [
    "cut -f 3 cp_saccharomyces_genes.gff3"
   ]
  },
  {
   "cell_type": "markdown",
   "id": "fa94b930",
   "metadata": {},
   "source": [
    "El campo tres revela el tipo de transcrito que hay en los 264 genes. En este caso pueden ser genes.\n",
    "CDS es la region de codificacion de un gen, es la parte del gen que codifica un transcrito, en cambio gen tiene a toda la secuencia completa incluyendo intrones."
   ]
  },
  {
   "cell_type": "markdown",
   "id": "87f2672b",
   "metadata": {},
   "source": [
    "## Parte III. Visualización con Python"
   ]
  },
  {
   "cell_type": "markdown",
   "id": "ba28cadc",
   "metadata": {},
   "source": [
    "* En tu archivo `gff`, identifica cuántas categorías distintas existen en el campo 3 y cuántas veces aparecen. Redirecciona la salida a un archivo que se llame `barplot_data.txt`"
   ]
  },
  {
   "cell_type": "code",
   "execution_count": null,
   "id": "955189c1",
   "metadata": {},
   "outputs": [],
   "source": [
    "# Comando\n",
    "awk 'BEGIN{print \"Transcrito:\"}; {tipo[$3] +=1}; END {for (i in tipo) {if (i != \"\") {print i \"\\t\" tipo[i]}}}' /home/dulma/Descargas/p2_Jocelyn_Robles/data/filtered//cp_saccharomyces_genes.gff3 > barplot_data.txt"
   ]
  },
  {
   "cell_type": "markdown",
   "id": "3d5583e5",
   "metadata": {},
   "source": [
    "Transcrito:\n",
    "sequence_feature\t18\n",
    "repeat_region\t1\n",
    "exon\t14\n",
    "region\t1\n",
    "long_terminal_repeat\t19\n",
    "CDS\t183\n",
    "intron\t6\n",
    "gene\t120\n",
    "pseudogene\t3\n",
    "tRNA\t10\n",
    "snRNA\t4\n"
   ]
  },
  {
   "cell_type": "markdown",
   "id": "35096885",
   "metadata": {},
   "source": [
    "* Crea una figura a partir de `barplot_data.txt`, para esto puedes utiliza el siguiete script de Python para generar una figura. \n",
    "\n",
    "```python\n",
    "\n",
    "import numpy as np\n",
    "import matplotlib.pyplot as plt\n",
    "from textwrap import wrap\n",
    "\n",
    "# Crea el dataset con tus datos obtenidos en barplot_data.txt\n",
    "frecuencias = [3, 12, 5, 18, 45]\n",
    "# Cambia el nombre de las categorías por las que obtuviste no lo dejes como \"Categoría A\", etc.\n",
    "categorias = ['Categoría A', 'Categoría B', 'Categoría C', 'Categoría D', 'Categoría E']\n",
    "categorias = [ ''.join(wrap(l, 11)) for l in categorias]\n",
    "\n",
    "y_pos = np.arange(len(categorias))\n",
    "\n",
    "# Gráfico de barras\n",
    "plt.bar(y_pos, frecuencias)\n",
    "\n",
    "# Nombres en el eje-x\n",
    "plt.xticks(y_pos, categorias)\n",
    "\n",
    "# Mostrar la gráfica\n",
    "plt.show()\n",
    "\n",
    "```\n",
    "\n",
    "También puedes generar tu figura con R o Julia, **prohibido** usar Excel.\n",
    "\n",
    "* Guarda la figura en tu carpeta `figures` con el nombre `barplot.png`.\n",
    "* Guardar el código que utilizaste en la carpeta `scripts`, lo puedes guardar en cualquier formato. "
   ]
  },
  {
   "cell_type": "markdown",
   "id": "083f405f",
   "metadata": {},
   "source": [
    "* Guarda tu libreta de `Jupyter` o tu `md` con tu nombre, las preguntas, los comandos y los outputs en la carpeta `scripts`. \n",
    "\n",
    "* Comprime tu carpeta `p2_nombre_apellido` y súbela en la sección de Classroom correspondiente."
   ]
  },
  {
   "cell_type": "code",
   "execution_count": 2,
   "id": "76278560",
   "metadata": {},
   "outputs": [
    {
     "name": "stdout",
     "output_type": "stream",
     "text": [
      "\u001b[?2004h"
     ]
    },
    {
     "ename": "",
     "evalue": "1",
     "output_type": "error",
     "traceback": []
    }
   ],
   "source": [
    "mv -t figures barplot.png"
   ]
  },
  {
   "cell_type": "code",
   "execution_count": 4,
   "id": "d5806764",
   "metadata": {},
   "outputs": [
    {
     "name": "stdout",
     "output_type": "stream",
     "text": [
      "\u001b[?2004h"
     ]
    },
    {
     "ename": "",
     "evalue": "1",
     "output_type": "error",
     "traceback": []
    }
   ],
   "source": [
    "mv -t scripts p2_Jocelyn_Robles.ipynb"
   ]
  },
  {
   "cell_type": "code",
   "execution_count": 7,
   "id": "f125d473",
   "metadata": {},
   "outputs": [
    {
     "name": "stdout",
     "output_type": "stream",
     "text": [
      " \u001b[0m\u001b[01;34marchive\u001b[0m   \u001b[01;34mfigures\u001b[0m   p2_Jocelyn_Robles.ipynb    \u001b[01;34mscripts\u001b[0m\n",
      " \u001b[01;34mdata\u001b[0m      \u001b[01;34mmeta\u001b[0m     'Parte III. Python.ipynb'\n",
      "\u001b[?2004h"
     ]
    },
    {
     "ename": "",
     "evalue": "1",
     "output_type": "error",
     "traceback": []
    }
   ],
   "source": [
    "ls"
   ]
  }
 ],
 "metadata": {
  "kernelspec": {
   "display_name": "Bash",
   "language": "bash",
   "name": "bash"
  },
  "language_info": {
   "codemirror_mode": "shell",
   "file_extension": ".sh",
   "mimetype": "text/x-sh",
   "name": "bash"
  }
 },
 "nbformat": 4,
 "nbformat_minor": 5
}
