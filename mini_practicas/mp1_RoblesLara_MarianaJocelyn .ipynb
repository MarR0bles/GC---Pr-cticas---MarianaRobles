{
 "cells": [
  {
   "cell_type": "markdown",
   "id": "119f5905",
   "metadata": {},
   "source": [
    "# Mini práctica 1: Repasando variables, datos y operadores\n",
    "\n",
    "## Mariana  Jocelyn Robles  Lara"
   ]
  },
  {
   "cell_type": "markdown",
   "id": "fca718ff",
   "metadata": {},
   "source": [
    "### Parte I"
   ]
  },
  {
   "cell_type": "markdown",
   "id": "5626ee35",
   "metadata": {},
   "source": [
    "####  a) ¿Qué es una función integrada (en inglés son conocidas como built-in function)?\n",
    "Son funciones que nos da el lenguaje de la computadora que se pueden ejecutar referenciándolas, esta funciones son una combinación de instrucciones para obtener una resultado "
   ]
  },
  {
   "cell_type": "markdown",
   "id": "720d6593",
   "metadata": {},
   "source": [
    "#### b) Crea una variable que se llame dna que contenga la siguiente cadena de caracteres:\n",
    "caacggcgggtccctcataggatgaataggtgaaactgtctgaatgcttaggaactggttatggttaccacttcatcaaatatcaattgaacgatacagc."
   ]
  },
  {
   "cell_type": "code",
   "execution_count": 2,
   "id": "f2a6a21f",
   "metadata": {},
   "outputs": [],
   "source": [
    "dna = \"caacggcgggtccctcataggatgaataggtgaaactgtctgaatgcttaggaactggttatggttaccacttcatcaaatatcaattgaacgatacagc\""
   ]
  },
  {
   "cell_type": "markdown",
   "id": "e89af96d",
   "metadata": {},
   "source": [
    "#### Ahora escribe lo siguiente:\n",
    "- dna.upper()\n",
    "- dna.find(\"catag\")\n",
    "- dna.count()\n",
    "- dna.replace(\"g\", \"x\")\n",
    "\n",
    "#### c) ¿Qué hace cada una de las funciones anteriores?"
   ]
  },
  {
   "cell_type": "code",
   "execution_count": 5,
   "id": "3c1562d5",
   "metadata": {},
   "outputs": [
    {
     "data": {
      "text/plain": [
       "'CAACGGCGGGTCCCTCATAGGATGAATAGGTGAAACTGTCTGAATGCTTAGGAACTGGTTATGGTTACCACTTCATCAAATATCAATTGAACGATACAGC'"
      ]
     },
     "execution_count": 5,
     "metadata": {},
     "output_type": "execute_result"
    }
   ],
   "source": [
    "dna.upper()"
   ]
  },
  {
   "cell_type": "markdown",
   "id": "ffd2c7a0",
   "metadata": {},
   "source": [
    "La función .upper() pone en mayúsculas nuestra cadena de texto"
   ]
  },
  {
   "cell_type": "code",
   "execution_count": 6,
   "id": "20772ea8",
   "metadata": {},
   "outputs": [
    {
     "data": {
      "text/plain": [
       "15"
      ]
     },
     "execution_count": 6,
     "metadata": {},
     "output_type": "execute_result"
    }
   ],
   "source": [
    "dna.find(\"catag\")"
   ]
  },
  {
   "cell_type": "markdown",
   "id": "6293ec9f",
   "metadata": {},
   "source": [
    "La función .find() encuentra en que posición está el patrón o combinación de letras que deseamos, en este caso el patron \"catag\" está en la posición 15"
   ]
  },
  {
   "cell_type": "code",
   "execution_count": 10,
   "id": "cd23e056",
   "metadata": {},
   "outputs": [
    {
     "data": {
      "text/plain": [
       "4"
      ]
     },
     "execution_count": 10,
     "metadata": {},
     "output_type": "execute_result"
    }
   ],
   "source": [
    "dna.count(\"tca\")"
   ]
  },
  {
   "cell_type": "markdown",
   "id": "b843dd9c",
   "metadata": {},
   "source": [
    "La función .count() cuenta las veces que aparecen combinaciones que deseamos dentro de la cadena de texto, por ejemplo la combinación \"tca\" aparece 4 veces\n"
   ]
  },
  {
   "cell_type": "code",
   "execution_count": 11,
   "id": "7a436b2f",
   "metadata": {},
   "outputs": [
    {
     "data": {
      "text/plain": [
       "'caacxxcxxxtccctcataxxatxaataxxtxaaactxtctxaatxcttaxxaactxxttatxxttaccacttcatcaaatatcaattxaacxatacaxc'"
      ]
     },
     "execution_count": 11,
     "metadata": {},
     "output_type": "execute_result"
    }
   ],
   "source": [
    "dna.replace(\"g\",\"x\")"
   ]
  },
  {
   "cell_type": "markdown",
   "id": "d644a9b9",
   "metadata": {},
   "source": [
    "La función .replace() reemplaza elementos de la cadena de texto por otros, por ejemplo las letras g las cambió a x"
   ]
  },
  {
   "cell_type": "markdown",
   "id": "dcc9add7",
   "metadata": {},
   "source": [
    "### Parte II\n",
    "Trabajando con operadores y expresiones Escribe y ejecuta las expresiones que se encuentran a continuación y responde para cada una:\n",
    "\n",
    "- a) ¿Qué tipo de dato se está utilizando?\n",
    "- b) ¿Qué tipo de operador?\n",
    "- c) Justifica el resultado que se obtenga de cada expresión"
   ]
  },
  {
   "cell_type": "code",
   "execution_count": 2,
   "id": "b1b1e987",
   "metadata": {},
   "outputs": [],
   "source": [
    "# Variables\n",
    "x = 1234\n",
    "y = 5879\n",
    "z = 89\n",
    "\n",
    "mamifero1 = \"Ornitorrinco\"\n",
    "mamifero2 = \" Ornitorrinco\""
   ]
  },
  {
   "cell_type": "code",
   "execution_count": 15,
   "id": "53d81c97",
   "metadata": {},
   "outputs": [
    {
     "data": {
      "text/plain": [
       "False"
      ]
     },
     "execution_count": 15,
     "metadata": {},
     "output_type": "execute_result"
    }
   ],
   "source": [
    "### Expresión 1\n",
    "x > y "
   ]
  },
  {
   "cell_type": "markdown",
   "id": "c82cccbb",
   "metadata": {},
   "source": [
    "Se está utilizando datos de tipo enteros al tratarse de números del mismo tipo; el operador es relacional ya que establece una comparación entre ambos valores. En este caso el lenguaje se pregunta si x es mayor a y y arroja que es falso ya que x = 1234, y = 5879, x es menor."
   ]
  },
  {
   "cell_type": "code",
   "execution_count": 16,
   "id": "fae95a4c",
   "metadata": {},
   "outputs": [
    {
     "data": {
      "text/plain": [
       "False"
      ]
     },
     "execution_count": 16,
     "metadata": {},
     "output_type": "execute_result"
    }
   ],
   "source": [
    "### Expresión 2\n",
    "mamifero1 == mamifero2"
   ]
  },
  {
   "cell_type": "markdown",
   "id": "faf7ba36",
   "metadata": {},
   "source": [
    "Datos de tipo string  ya que son arreglos de carácteres que forman un mensaje u oración; el operador es relacional pero en este caso se quiere saber si ambas variables son iguales, arroja un falso ya que en mamifero2 existe un caracter vacío que aún así cuenta la computadora y por eso difieren."
   ]
  },
  {
   "cell_type": "code",
   "execution_count": 3,
   "id": "19892578",
   "metadata": {},
   "outputs": [
    {
     "data": {
      "text/plain": [
       "True"
      ]
     },
     "execution_count": 3,
     "metadata": {},
     "output_type": "execute_result"
    }
   ],
   "source": [
    "### Expresión 3\n",
    "x == y or y > z"
   ]
  },
  {
   "cell_type": "markdown",
   "id": "e1b650e6",
   "metadata": {},
   "source": [
    "Datos enteros y operador lógico que se basa en elegir una decisión según las condiciones dadas, en caso de or se pregunta si alguna de las dos funciones es cierta, arroja cierto ya que se cumple y > z"
   ]
  },
  {
   "cell_type": "code",
   "execution_count": 34,
   "id": "2b7ef223",
   "metadata": {},
   "outputs": [
    {
     "data": {
      "text/plain": [
       "True"
      ]
     },
     "execution_count": 34,
     "metadata": {},
     "output_type": "execute_result"
    }
   ],
   "source": [
    "### Expresión 4\n",
    "y != x and y > z"
   ]
  },
  {
   "cell_type": "markdown",
   "id": "d1644449",
   "metadata": {},
   "source": [
    "Datos de tipo enteros y operador relacional, en caso de != se evalua si los valores son distintos (lo son) mientras en la otra función y es mayor a z, lo que arroja cierto ya que ambas intrucciones son correctas"
   ]
  },
  {
   "cell_type": "code",
   "execution_count": 28,
   "id": "a6a60ce2",
   "metadata": {},
   "outputs": [
    {
     "data": {
      "text/plain": [
       "False"
      ]
     },
     "execution_count": 28,
     "metadata": {},
     "output_type": "execute_result"
    }
   ],
   "source": [
    "### Expresión 5\n",
    "not x"
   ]
  },
  {
   "cell_type": "markdown",
   "id": "aecea8eb",
   "metadata": {},
   "source": [
    "Dato de tipo entero con operador lógico, en caso de \"not\" devuelve el valor contrario al establecido, se ha establecido que 0 = false y 1 = true, si x es diferente de 0 entonces es true pero al ejecutar \"not\" arroja lo contrario (false)"
   ]
  }
 ],
 "metadata": {
  "kernelspec": {
   "display_name": "Python 3 (ipykernel)",
   "language": "python",
   "name": "python3"
  },
  "language_info": {
   "codemirror_mode": {
    "name": "ipython",
    "version": 3
   },
   "file_extension": ".py",
   "mimetype": "text/x-python",
   "name": "python",
   "nbconvert_exporter": "python",
   "pygments_lexer": "ipython3",
   "version": "3.9.7"
  }
 },
 "nbformat": 4,
 "nbformat_minor": 5
}
