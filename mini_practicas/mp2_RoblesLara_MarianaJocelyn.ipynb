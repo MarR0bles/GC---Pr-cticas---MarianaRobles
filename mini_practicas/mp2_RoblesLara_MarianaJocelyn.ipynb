{
 "cells": [
  {
   "cell_type": "markdown",
   "id": "4b8547ea",
   "metadata": {},
   "source": [
    "# Mini práctica 2: Control de flujo \n",
    "\n",
    "#### Mariana Jocelyn Robles Lara"
   ]
  },
  {
   "cell_type": "markdown",
   "id": "e9b4b71b",
   "metadata": {},
   "source": [
    "- Crea un programa en el que un usuario ingrese un codón y el programa arroje un mensaje que diga si se trata de un codón de stop, de inicio o ninguno de ambos casos"
   ]
  },
  {
   "cell_type": "code",
   "execution_count": 1,
   "id": "bfc3da76",
   "metadata": {},
   "outputs": [],
   "source": [
    "import re"
   ]
  },
  {
   "cell_type": "code",
   "execution_count": 4,
   "id": "b4ef5163",
   "metadata": {},
   "outputs": [
    {
     "name": "stdout",
     "output_type": "stream",
     "text": [
      "Ingrese un codón de DNA (secuencia de tres nuclótidos A, T, G, C) gcg\n",
      "GCG  NO es un codón de inicio NI de terminación\n"
     ]
    }
   ],
   "source": [
    "triplete_esp= input(\"Ingrese un codón de DNA (secuencia de tres nuclótidos A, T, G, C) \")  \n",
    "triplete_esp = triplete_esp.upper() \n",
    "\n",
    "\n",
    "# ciclo if\n",
    "\n",
    "if triplete_esp == \"ATG\":\n",
    "    print(triplete_esp, \" es un triplete de inicio\")\n",
    "    \n",
    "elif triplete_esp == \"TAG\" or triplete_esp == \"TGA\" or triplete_esp == \"TAA\":  \n",
    "    print(triplete_esp, \" es un codón de terminación\")\n",
    "\n",
    "else:\n",
    "    print(triplete_esp, \" NO es un codón de inicio NI de terminación\")"
   ]
  },
  {
   "cell_type": "markdown",
   "id": "60d25cd1",
   "metadata": {},
   "source": [
    "- Crea un programa que arroje la frecuencia de A, T, C y G de una cadena de DNA de 300 nucleotídos. "
   ]
  },
  {
   "cell_type": "code",
   "execution_count": 9,
   "id": "d7db7c62",
   "metadata": {},
   "outputs": [
    {
     "data": {
      "text/plain": [
       "'AGCCGTTTTAACCGAGAGCCGCCGACTCGGGCTTGACCACCTTGTTTCAACAAGAGCTATCAAACCACTCATAGCTCCGTTTCCGCACCCGTTCTAAGTACATCAGTTCTAGTTTGTATCGCTTCAAGATCCCCTGCGATAGTATCGGGAGCGAAGTAGTGTCGTCTCGCAGCAACCCTTTAATAGGGTTGTAGTAGGGATATTATCTAAGCGTGGGGTACGGTCGCATACGCCGAACTTCCCATCCCGGTAGAGTTGGTGCACAATGAGATGATAGGTGATTTTTCGATGGAGCTTGTC'"
      ]
     },
     "execution_count": 9,
     "metadata": {},
     "output_type": "execute_result"
    }
   ],
   "source": [
    "import random\n",
    "\n",
    "def generar_secuencia(tamaño = int(), codigo = \"CTGA\"):\n",
    "    return''.join(random.choices(codigo, k = tamaño))\n",
    "\n",
    "# generar secuencia de 3000 pb y guardar en variable\n",
    "DNA300 = generar_secuencia(300)\n",
    "DNA300"
   ]
  },
  {
   "cell_type": "code",
   "execution_count": 41,
   "id": "1c190e97",
   "metadata": {},
   "outputs": [
    {
     "name": "stdout",
     "output_type": "stream",
     "text": [
      "{'A': 69, 'G': 75, 'C': 74, 'T': 82}\n"
     ]
    }
   ],
   "source": [
    "rep = {}  \n",
    "\n",
    "for nucleotido in DNA300:\n",
    "    \n",
    "    if nucleotido in rep:\n",
    "        rep[nucleotido] += 1 \n",
    "        \n",
    "    else:\n",
    "        rep[nucleotido] = 1\n",
    "\n",
    "print(rep)"
   ]
  },
  {
   "cell_type": "markdown",
   "id": "31250b5c",
   "metadata": {},
   "source": [
    "### Listas de compresión\n",
    "\n",
    "1. Crea una lista que contenga 5 cadenas de DNA de 50 nucleótidos cada una.\n",
    "\n",
    "2. Extrae de cada cadena el codón número 3\n",
    "\n",
    "3. El programa debe dar como resultado una lista con los codones que extrajíste\n",
    "\n",
    "Resuelve éste problema utilizando tanto un ciclo for con la función append() y utilizando la estructura de las listas de comprehensión."
   ]
  },
  {
   "cell_type": "markdown",
   "id": "10f485db",
   "metadata": {},
   "source": [
    "####  Estructura lista de comprensión"
   ]
  },
  {
   "cell_type": "code",
   "execution_count": 33,
   "id": "548ef346",
   "metadata": {},
   "outputs": [],
   "source": [
    "seqs = []\n",
    "for i in range(5):\n",
    "    seqs.append(generar_secuencia(50))"
   ]
  },
  {
   "cell_type": "code",
   "execution_count": 34,
   "id": "c770fab8",
   "metadata": {},
   "outputs": [
    {
     "data": {
      "text/plain": [
       "5"
      ]
     },
     "execution_count": 34,
     "metadata": {},
     "output_type": "execute_result"
    }
   ],
   "source": [
    "len(seqs)"
   ]
  },
  {
   "cell_type": "code",
   "execution_count": 35,
   "id": "84e651f4",
   "metadata": {},
   "outputs": [
    {
     "data": {
      "text/plain": [
       "['GTACTCAGCTGGGGCCATGGGATCTAGCTGTTCGTGGGCCTTAGTCAGAT',\n",
       " 'ACACGATGATACCACCGGTTCCGCGATGCTCGCACACGGGCTTCGCGATT',\n",
       " 'AAGCCCACGGCCTTACTTCGTCTTACGTAACTGACTCCATTGGAAGTAAG',\n",
       " 'GTAAGGGTCTGCGCTCGGTTTAAGGGCGAAAACGGTCCGTATCCGACGAG',\n",
       " 'TACCTCGGGAGGGCAAGGGCGCAATTAGCCCGCGCTACAGCAGTGAGCCC']"
      ]
     },
     "execution_count": 35,
     "metadata": {},
     "output_type": "execute_result"
    }
   ],
   "source": [
    "seqs"
   ]
  },
  {
   "cell_type": "code",
   "execution_count": 36,
   "id": "106292e9",
   "metadata": {},
   "outputs": [
    {
     "name": "stdout",
     "output_type": "stream",
     "text": [
      "['AGC', 'TGA', 'ACG', 'GTC', 'GGG']\n"
     ]
    }
   ],
   "source": [
    "tripletes = [i[6:9] for i in seqs]\n",
    "print(tripletes)"
   ]
  },
  {
   "cell_type": "markdown",
   "id": "029fa18e",
   "metadata": {},
   "source": [
    "#### for y append"
   ]
  },
  {
   "cell_type": "code",
   "execution_count": 37,
   "id": "0b9ab378",
   "metadata": {},
   "outputs": [
    {
     "data": {
      "text/plain": [
       "['GTACTCAGCTGGGGCCATGGGATCTAGCTGTTCGTGGGCCTTAGTCAGAT',\n",
       " 'ACACGATGATACCACCGGTTCCGCGATGCTCGCACACGGGCTTCGCGATT',\n",
       " 'AAGCCCACGGCCTTACTTCGTCTTACGTAACTGACTCCATTGGAAGTAAG',\n",
       " 'GTAAGGGTCTGCGCTCGGTTTAAGGGCGAAAACGGTCCGTATCCGACGAG',\n",
       " 'TACCTCGGGAGGGCAAGGGCGCAATTAGCCCGCGCTACAGCAGTGAGCCC']"
      ]
     },
     "execution_count": 37,
     "metadata": {},
     "output_type": "execute_result"
    }
   ],
   "source": [
    "seqs"
   ]
  },
  {
   "cell_type": "code",
   "execution_count": 40,
   "id": "deb9a2b5",
   "metadata": {},
   "outputs": [
    {
     "name": "stdout",
     "output_type": "stream",
     "text": [
      "['AGC', 'TGA', 'ACG', 'GTC', 'GGG']\n"
     ]
    }
   ],
   "source": [
    "tripletes = []\n",
    "\n",
    "for i in seqs:\n",
    "    tripletes.append(i[6:9])\n",
    "print(tripletes)"
   ]
  }
 ],
 "metadata": {
  "kernelspec": {
   "display_name": "Python 3 (ipykernel)",
   "language": "python",
   "name": "python3"
  },
  "language_info": {
   "codemirror_mode": {
    "name": "ipython",
    "version": 3
   },
   "file_extension": ".py",
   "mimetype": "text/x-python",
   "name": "python",
   "nbconvert_exporter": "python",
   "pygments_lexer": "ipython3",
   "version": "3.9.7"
  }
 },
 "nbformat": 4,
 "nbformat_minor": 5
}
